{
 "cells": [
  {
   "cell_type": "code",
   "execution_count": 1,
   "metadata": {},
   "outputs": [],
   "source": [
    "import pandas as pd\n",
    "import numpy as np"
   ]
  },
  {
   "cell_type": "code",
   "execution_count": 3,
   "metadata": {},
   "outputs": [],
   "source": [
    "train_df = pd.read_csv(\"train.csv\")\n",
    "test_df = pd.read_csv(\"test.csv\")\n",
    "combine = [train_df,test_df]"
   ]
  },
  {
   "cell_type": "code",
   "execution_count": 4,
   "metadata": {},
   "outputs": [],
   "source": [
    "data = pd.concat(combine, sort = True)"
   ]
  },
  {
   "cell_type": "code",
   "execution_count": 5,
   "metadata": {},
   "outputs": [
    {
     "name": "stdout",
     "output_type": "stream",
     "text": [
      "Answer to Question 1\n",
      "Index(['Age', 'Cabin', 'Embarked', 'Fare', 'Name', 'Parch', 'PassengerId',\n",
      "       'Pclass', 'Sex', 'SibSp', 'Survived', 'Ticket'],\n",
      "      dtype='object')\n"
     ]
    }
   ],
   "source": [
    "print('Answer to Question 1')\n",
    "print(data.columns)"
   ]
  },
  {
   "cell_type": "code",
   "execution_count": 10,
   "metadata": {},
   "outputs": [
    {
     "name": "stdout",
     "output_type": "stream",
     "text": [
      "Answer to Question 5 and 6\n",
      "<class 'pandas.core.frame.DataFrame'>\n",
      "Int64Index: 1309 entries, 0 to 417\n",
      "Data columns (total 12 columns):\n",
      "Age            1046 non-null float64\n",
      "Cabin          295 non-null object\n",
      "Embarked       1307 non-null object\n",
      "Fare           1308 non-null float64\n",
      "Name           1309 non-null object\n",
      "Parch          1309 non-null int64\n",
      "PassengerId    1309 non-null int64\n",
      "Pclass         1309 non-null int64\n",
      "Sex            1309 non-null object\n",
      "SibSp          1309 non-null int64\n",
      "Survived       891 non-null float64\n",
      "Ticket         1309 non-null object\n",
      "dtypes: float64(3), int64(4), object(5)\n",
      "memory usage: 132.9+ KB\n",
      "None\n"
     ]
    }
   ],
   "source": [
    "print(\"Answer to Question 5 and 6\")\n",
    "print(data.info())"
   ]
  },
  {
   "cell_type": "code",
   "execution_count": 11,
   "metadata": {},
   "outputs": [
    {
     "name": "stdout",
     "output_type": "stream",
     "text": [
      "Answer to Question 7\n",
      "               Age         Fare        Parch  PassengerId       Pclass  \\\n",
      "count  1046.000000  1308.000000  1309.000000  1309.000000  1309.000000   \n",
      "mean     29.881138    33.295479     0.385027   655.000000     2.294882   \n",
      "std      14.413493    51.758668     0.865560   378.020061     0.837836   \n",
      "min       0.170000     0.000000     0.000000     1.000000     1.000000   \n",
      "25%      21.000000     7.895800     0.000000   328.000000     2.000000   \n",
      "50%      28.000000    14.454200     0.000000   655.000000     3.000000   \n",
      "75%      39.000000    31.275000     0.000000   982.000000     3.000000   \n",
      "max      80.000000   512.329200     9.000000  1309.000000     3.000000   \n",
      "\n",
      "             SibSp    Survived  \n",
      "count  1309.000000  891.000000  \n",
      "mean      0.498854    0.383838  \n",
      "std       1.041658    0.486592  \n",
      "min       0.000000    0.000000  \n",
      "25%       0.000000    0.000000  \n",
      "50%       0.000000    0.000000  \n",
      "75%       1.000000    1.000000  \n",
      "max       8.000000    1.000000  \n"
     ]
    }
   ],
   "source": [
    "print('Answer to Question 7')\n",
    "print(data.describe())"
   ]
  },
  {
   "cell_type": "code",
   "execution_count": 12,
   "metadata": {},
   "outputs": [
    {
     "name": "stdout",
     "output_type": "stream",
     "text": [
      "Answer to Question 8\n",
      "              Cabin Embarked                  Name   Sex    Ticket\n",
      "count           295     1307                  1309  1309      1309\n",
      "unique          186        3                  1307     2       929\n",
      "top     C23 C25 C27        S  Connolly, Miss. Kate  male  CA. 2343\n",
      "freq              6      914                     2   843        11\n"
     ]
    }
   ],
   "source": [
    "print(\"Answer to Question 8\")\n",
    "print(data.describe(include = \"O\"))"
   ]
  },
  {
   "cell_type": "code",
   "execution_count": null,
   "metadata": {},
   "outputs": [],
   "source": []
  }
 ],
 "metadata": {
  "kernelspec": {
   "display_name": "Python 3",
   "language": "python",
   "name": "python3"
  },
  "language_info": {
   "codemirror_mode": {
    "name": "ipython",
    "version": 3
   },
   "file_extension": ".py",
   "mimetype": "text/x-python",
   "name": "python",
   "nbconvert_exporter": "python",
   "pygments_lexer": "ipython3",
   "version": "3.7.4"
  }
 },
 "nbformat": 4,
 "nbformat_minor": 2
}
